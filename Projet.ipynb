{
 "cells": [
  {
   "cell_type": "code",
   "execution_count": 1,
   "metadata": {},
   "outputs": [],
   "source": [
    "from mastodon import Mastodon"
   ]
  },
  {
   "cell_type": "code",
   "execution_count": 10,
   "metadata": {},
   "outputs": [],
   "source": [
    "from mastodon import Mastodon\n",
    "\n",
    "# 初始化Mastodon客户端\n",
    "mastodon_instance_url = \"https://mastodon.social/\"\n",
    "mastodon = Mastodon(api_base_url=mastodon_instance_url)\n",
    "\n",
    "# timeline = mastodon.timeline_public(limit=10)  # Retrieve the latest 10 public posts\n",
    "# for post in timeline:\n",
    "#     print(post[\"content\"])  # Print the content of each post\n",
    "    \n",
    "# 定义要收集的话题\n",
    "topics = [\"math\", \"science\", \"CS\"]  # 替换为你感兴趣的话题列表\n",
    "Authors = []\n",
    "Contents = []\n",
    "Created_at = []\n",
    "# 收集每个话题的相关帖子\n",
    "for topic in topics:\n",
    "    # 使用Mastodon API搜索相关帖子\n",
    "    results = mastodon.timeline_hashtag(hashtag=topic, limit=100)  # 每个话题最多获取100条帖子\n",
    "\n",
    "    # 处理搜索结果\n",
    "    for status in results:\n",
    "        # 可以在这里提取有关帖子的信息，如作者、内容、时间等\n",
    "        author = status[\"account\"][\"username\"]\n",
    "        content = status[\"content\"]\n",
    "        created_at = status[\"created_at\"]\n",
    "\n",
    "        # 将信息存储到列表中\n",
    "\n",
    "        Authors.append(author)\n",
    "        Contents.append(content)\n",
    "        Created_at.append(created_at)\n",
    "        # 在这里进行数据存储或其他分析操作\n",
    "\n",
    "# 完成后的数据处理代码放在这里\n"
   ]
  },
  {
   "cell_type": "code",
   "execution_count": 15,
   "metadata": {},
   "outputs": [
    {
     "data": {
      "text/plain": [
       "['<p>Hope your Wednesday is awesome!  <a href=\"https://mastodon.social/tags/Math\" class=\"mention hashtag\" rel=\"tag\">#<span>Math</span></a> <a href=\"https://mastodon.social/tags/VisualArt\" class=\"mention hashtag\" rel=\"tag\">#<span>VisualArt</span></a></p>',\n",
       " '<p>Wednesday vibes!  <a href=\"https://mastodon.social/tags/Math\" class=\"mention hashtag\" rel=\"tag\">#<span>Math</span></a> <a href=\"https://mastodon.social/tags/Art\" class=\"mention hashtag\" rel=\"tag\">#<span>Art</span></a></p>',\n",
       " '<p><a href=\"https://mathstodon.xyz/tags/Calculemus\" class=\"mention hashtag\" rel=\"nofollow noopener noreferrer\" target=\"_blank\">#<span>Calculemus</span></a>: Demostraciones con Lean4: \"En los anillos ordenados, a ≤ b → 0 ≤ b – a\". <a href=\"https://www.glc.us.es/~jalonso/calculemus/27-sep-23/\" rel=\"nofollow noopener noreferrer\" translate=\"no\" target=\"_blank\"><span class=\"invisible\">https://www.</span><span class=\"ellipsis\">glc.us.es/~jalonso/calculemus/</span><span class=\"invisible\">27-sep-23/</span></a> <a href=\"https://mathstodon.xyz/tags/ITP\" class=\"mention hashtag\" rel=\"nofollow noopener noreferrer\" target=\"_blank\">#<span>ITP</span></a> <a href=\"https://mathstodon.xyz/tags/Lean4\" class=\"mention hashtag\" rel=\"nofollow noopener noreferrer\" target=\"_blank\">#<span>Lean4</span></a> <a href=\"https://mathstodon.xyz/tags/Math\" class=\"mention hashtag\" rel=\"nofollow noopener noreferrer\" target=\"_blank\">#<span>Math</span></a></p>',\n",
       " '<p>Let this Burning Ship brighten up your Wednesday!  <a href=\"https://mastodon.social/tags/Math\" class=\"mention hashtag\" rel=\"tag\">#<span>Math</span></a> <a href=\"https://mastodon.social/tags/DeepLearning\" class=\"mention hashtag\" rel=\"tag\">#<span>DeepLearning</span></a></p>',\n",
       " '<p><span>hard mathler 603 3/6<br><br></span>🟩⬜⬜🟩⬜🟩🟩⬜<span><br></span>🟩⬜⬜🟩⬜🟩🟩⬜<span><br></span>🟩🟩🟩🟩🟩🟩🟩🟩<span><br><br>mathler  603 2/6<br><br></span>🟩🟨🟨⬜⬜⬜<span><br></span>🟩🟩🟩🟩🟩🟩<span><br><br>easy mathler  603 2/6<br><br></span>🟩⬜🟩🟩⬜<span><br></span>🟩🟩🟩🟩🟩<span><br><br>killer mathler  603 4/6<br><br></span>⬜⬜⬜⬜⬜⬜<span><br></span>⬜⬜⬜⬜⬜⬜<span><br></span>🟩🟩⬜⬜⬜⬜<span><br></span>🟩🟩🟩🟩🟩🟩<span><br><br></span><a href=\"https://social.coolmathgames.tech/tags/mathler\" rel=\"nofollow noopener noreferrer\" target=\"_blank\">#mathler</a><span> </span><a href=\"https://social.coolmathgames.tech/tags/math\" rel=\"nofollow noopener noreferrer\" target=\"_blank\">#math</a><span> </span><a href=\"https://social.coolmathgames.tech/tags/game\" rel=\"nofollow noopener noreferrer\" target=\"_blank\">#game</a><span> </span><a href=\"https://social.coolmathgames.tech/tags/puzzle\" rel=\"nofollow noopener noreferrer\" target=\"_blank\">#puzzle</a><span> </span><a href=\"https://social.coolmathgames.tech/tags/hardMathler\" rel=\"nofollow noopener noreferrer\" target=\"_blank\">#hardMathler</a><span> </span><a href=\"https://social.coolmathgames.tech/tags/hard\" rel=\"nofollow noopener noreferrer\" target=\"_blank\">#hard</a><span> </span><a href=\"https://social.coolmathgames.tech/tags/easyMathler\" rel=\"nofollow noopener noreferrer\" target=\"_blank\">#easyMathler</a><span> </span><a href=\"https://social.coolmathgames.tech/tags/easy\" rel=\"nofollow noopener noreferrer\" target=\"_blank\">#easy</a><span> </span><a href=\"https://social.coolmathgames.tech/tags/KillerMathler\" rel=\"nofollow noopener noreferrer\" target=\"_blank\">#KillerMathler</a><span> </span><a href=\"https://social.coolmathgames.tech/tags/killer\" rel=\"nofollow noopener noreferrer\" target=\"_blank\">#killer</a></p>',\n",
       " '<p>27 septembre 1879 : <a href=\"https://mathstodon.xyz/tags/CeJourL%C3%A0\" class=\"mention hashtag\" rel=\"nofollow noopener noreferrer\" target=\"_blank\">#<span>CeJourLà</span></a> naissance de Hans Hahn (†24/7/1934), mathématicien autrichien, dont les travaux portent sur l\\'analyse fonctionnelle (théorème de Hahn-Banach), le calcul des variations, la théorie des ensembles, la topologie.<br><a href=\"https://fr.wikipedia.org/wiki/Hans_Hahn_(math%C3%A9maticien)\" rel=\"nofollow noopener noreferrer\" translate=\"no\" target=\"_blank\"><span class=\"invisible\">https://</span><span class=\"ellipsis\">fr.wikipedia.org/wiki/Hans_Hah</span><span class=\"invisible\">n_(math%C3%A9maticien)</span></a><br><a href=\"https://mathstodon.xyz/tags/math%C3%A9matiques\" class=\"mention hashtag\" rel=\"nofollow noopener noreferrer\" target=\"_blank\">#<span>mathématiques</span></a> <a href=\"https://mathstodon.xyz/tags/maths\" class=\"mention hashtag\" rel=\"nofollow noopener noreferrer\" target=\"_blank\">#<span>maths</span></a> <a href=\"https://mathstodon.xyz/tags/math\" class=\"mention hashtag\" rel=\"nofollow noopener noreferrer\" target=\"_blank\">#<span>math</span></a></p>',\n",
       " '<p><span>Numbword #412 100/100<br><br></span>🟦⬜⬜🟦⬜<span>  <br></span>🟦⬜🟦⬜🟦<span>  <br></span>🟦🟦🟦🟦🟦<span><br><br>\"Adversity is an opportunity for heroism.\"<br>- Mark Levy<br><br></span><a href=\"https://numbword.com/\" rel=\"nofollow noopener noreferrer\" target=\"_blank\">https://numbword.com/</a><span><br><br></span><a href=\"https://social.coolmathgames.tech/tags/numbword\" rel=\"nofollow noopener noreferrer\" target=\"_blank\">#numbword</a><span> </span><a href=\"https://social.coolmathgames.tech/tags/puzzle\" rel=\"nofollow noopener noreferrer\" target=\"_blank\">#puzzle</a><span> </span><a href=\"https://social.coolmathgames.tech/tags/math\" rel=\"nofollow noopener noreferrer\" target=\"_blank\">#math</a><span> </span><a href=\"https://social.coolmathgames.tech/tags/wordgame\" rel=\"nofollow noopener noreferrer\" target=\"_blank\">#wordgame</a><span> </span><a href=\"https://social.coolmathgames.tech/tags/game\" rel=\"nofollow noopener noreferrer\" target=\"_blank\">#game</a><span> </span><a href=\"https://social.coolmathgames.tech/tags/word\" rel=\"nofollow noopener noreferrer\" target=\"_blank\">#word</a></p>',\n",
       " '<p>😞<span>bogey</span>😞<span><br>calcule.heavymoons.net?20230927<br></span>⬛<span>÷</span>⬛<span>＋</span>🟨<span>−</span>🟨<span>＝</span>🟨<span><br></span>🟨<span>÷</span>🟨<span>＋</span>⬛<span>−</span>🟨<span>＝</span>🟨<span><br></span>🟨<span>÷</span>🟩<span>＋</span>🟨<span>−</span>🟨<span>＝</span>🟨<span><br></span>🟩<span>÷</span>🟩<span>＋</span>🟩<span>−</span>🟩<span>＝</span>🟩<span><br><br></span><a href=\"https://social.coolmathgames.tech/tags/calcule\" rel=\"nofollow noopener noreferrer\" target=\"_blank\">#calcule</a><span> </span><a href=\"https://social.coolmathgames.tech/tags/puzzle\" rel=\"nofollow noopener noreferrer\" target=\"_blank\">#puzzle</a><span> </span><a href=\"https://social.coolmathgames.tech/tags/math\" rel=\"nofollow noopener noreferrer\" target=\"_blank\">#math</a><span> </span><a href=\"https://social.coolmathgames.tech/tags/game\" rel=\"nofollow noopener noreferrer\" target=\"_blank\">#game</a></p>',\n",
       " '<p>Hello Wednesday! This Burning Ship is yours!  <a href=\"https://mastodon.social/tags/Math\" class=\"mention hashtag\" rel=\"tag\">#<span>Math</span></a> <a href=\"https://mastodon.social/tags/Fractals\" class=\"mention hashtag\" rel=\"tag\">#<span>Fractals</span></a></p>',\n",
       " '<p>Uncharted</p><p>Mathematician Hannah Fry talks with guests about the human stories associated with 10 charts. </p><p>In episode 1/10 The Returning Soldier, Prof Hannah Fry and statistician Prof David Spiegelhalter talk about why there are sometimes booms in the numbers of boys being born. BBC Audio ~15mins.</p><p>Listen—&gt;<br /><a href=\"https://www.bbc.co.uk/sounds/play/m001qw4s\" target=\"_blank\" rel=\"nofollow noopener noreferrer\" translate=\"no\"><span class=\"invisible\">https://www.</span><span class=\"\">bbc.co.uk/sounds/play/m001qw4s</span><span class=\"invisible\"></span></a></p><p>More:<br /><a href=\"https://www.bbc.co.uk/programmes/m001qw4s\" target=\"_blank\" rel=\"nofollow noopener noreferrer\" translate=\"no\"><span class=\"invisible\">https://www.</span><span class=\"\">bbc.co.uk/programmes/m001qw4s</span><span class=\"invisible\"></span></a></p><p>Episodes:<br /><a href=\"https://www.bbc.co.uk/programmes/m001qw8x/episodes/guide\" target=\"_blank\" rel=\"nofollow noopener noreferrer\" translate=\"no\"><span class=\"invisible\">https://www.</span><span class=\"ellipsis\">bbc.co.uk/programmes/m001qw8x/</span><span class=\"invisible\">episodes/guide</span></a></p><p><a href=\"https://mastodon.social/tags/math\" class=\"mention hashtag\" rel=\"tag\">#<span>math</span></a> <a href=\"https://mastodon.social/tags/maths\" class=\"mention hashtag\" rel=\"tag\">#<span>maths</span></a> <a href=\"https://mastodon.social/tags/mathematics\" class=\"mention hashtag\" rel=\"tag\">#<span>mathematics</span></a> <a href=\"https://mastodon.social/tags/stats\" class=\"mention hashtag\" rel=\"tag\">#<span>stats</span></a> <a href=\"https://mastodon.social/tags/statistics\" class=\"mention hashtag\" rel=\"tag\">#<span>statistics</span></a> <a href=\"https://mastodon.social/tags/stories\" class=\"mention hashtag\" rel=\"tag\">#<span>stories</span></a> <a href=\"https://mastodon.social/tags/hannahfry\" class=\"mention hashtag\" rel=\"tag\">#<span>hannahfry</span></a></p><p><span class=\"h-card\" translate=\"no\"><a href=\"https://social.bbc/@BBCRadio4\" class=\"u-url mention\">@<span>BBCRadio4</span></a></span></p>']"
      ]
     },
     "execution_count": 15,
     "metadata": {},
     "output_type": "execute_result"
    }
   ],
   "source": [
    "Contents[:10]"
   ]
  },
  {
   "cell_type": "code",
   "execution_count": null,
   "metadata": {},
   "outputs": [],
   "source": [
    "for lines in Contents:\n",
    "    lines.replace('<p>', '')"
   ]
  },
  {
   "cell_type": "code",
   "execution_count": 16,
   "metadata": {},
   "outputs": [
    {
     "name": "stdout",
     "output_type": "stream",
     "text": [
      "['Hope your Wednesday is awesome! # Math # VisualArt', '#Math', '#VisualArt']\n",
      "['Wednesday vibes! # Math # Art', '#Math', '#Art']\n",
      "['# Calculemus : Demostraciones con Lean4: \"En los anillos ordenados, a ≤ b → 0 ≤ b – a\". https://www. glc.us.es/~jalonso/calculemus/ 27-sep-23/ # ITP # Lean4 # Math', '#Calculemus', '#ITP', '#Lean4', '#Math']\n",
      "['Let this Burning Ship brighten up your Wednesday! # Math # DeepLearning', '#Math', '#DeepLearning']\n",
      "['hard mathler 603 3/6 🟩⬜⬜🟩⬜🟩🟩⬜ 🟩⬜⬜🟩⬜🟩🟩⬜ 🟩🟩🟩🟩🟩🟩🟩🟩 mathler  603 2/6 🟩🟨🟨⬜⬜⬜ 🟩🟩🟩🟩🟩🟩 easy mathler  603 2/6 🟩⬜🟩🟩⬜ 🟩🟩🟩🟩🟩 killer mathler  603 4/6 ⬜⬜⬜⬜⬜⬜ ⬜⬜⬜⬜⬜⬜ 🟩🟩⬜⬜⬜⬜ 🟩🟩🟩🟩🟩🟩 #mathler #math #game #puzzle #hardMathler #hard #easyMathler #easy #KillerMathler #killer']\n",
      "[\"27 septembre 1879 : # CeJourLà naissance de Hans Hahn (†24/7/1934), mathématicien autrichien, dont les travaux portent sur l'analyse fonctionnelle (théorème de Hahn-Banach), le calcul des variations, la théorie des ensembles, la topologie. https:// fr.wikipedia.org/wiki/Hans_Hah n_(math%C3%A9maticien) # mathématiques # maths # math\", '#CeJourLà', '#mathématiques', '#maths', '#math']\n",
      "['Numbword #412 100/100 🟦⬜⬜🟦⬜ 🟦⬜🟦⬜🟦 🟦🟦🟦🟦🟦 \"Adversity is an opportunity for heroism.\" - Mark Levy https://numbword.com/ #numbword #puzzle #math #wordgame #game #word']\n",
      "['😞 bogey 😞 calcule.heavymoons.net?20230927 ⬛ ÷ ⬛ ＋ 🟨 − 🟨 ＝ 🟨 🟨 ÷ 🟨 ＋ ⬛ − 🟨 ＝ 🟨 🟨 ÷ 🟩 ＋ 🟨 − 🟨 ＝ 🟨 🟩 ÷ 🟩 ＋ 🟩 − 🟩 ＝ 🟩 #calcule #puzzle #math #game']\n",
      "['Hello Wednesday! This Burning Ship is yours! # Math # Fractals', '#Math', '#Fractals']\n",
      "['Uncharted Mathematician Hannah Fry talks with guests about the human stories associated with 10 charts. In episode 1/10 The Returning Soldier, Prof Hannah Fry and statistician Prof David Spiegelhalter talk about why there are sometimes booms in the numbers of boys being born. BBC Audio ~15mins. Listen—> https://www. bbc.co.uk/sounds/play/m001qw4s More: https://www. bbc.co.uk/programmes/m001qw4s Episodes: https://www. bbc.co.uk/programmes/m001qw8x/ episodes/guide # math # maths # mathematics # stats # statistics # stories # hannahfry @ BBCRadio4', '#math', '#maths', '#mathematics', '#stats', '#statistics', '#stories', '#hannahfry']\n"
     ]
    }
   ],
   "source": [
    "from bs4 import BeautifulSoup\n",
    "\n",
    "# Input HTML string\n",
    "\n",
    "for html_string in  Contents[:10]:\n",
    "\n",
    "    # Parse the HTML\n",
    "    soup = BeautifulSoup(html_string, 'html.parser')\n",
    "\n",
    "    # Extract the text content\n",
    "    text_content = soup.get_text(strip=True, separator=' ')\n",
    "\n",
    "    # Extract hashtags\n",
    "    hashtags = [a.text for a in soup.find_all('a', class_='mention hashtag')]\n",
    "\n",
    "    # Combine text and hashtags\n",
    "    result = [text_content] + hashtags\n",
    "\n",
    "    # Print the result as a list\n",
    "    print(result)\n"
   ]
  },
  {
   "cell_type": "code",
   "execution_count": null,
   "metadata": {},
   "outputs": [],
   "source": []
  }
 ],
 "metadata": {
  "kernelspec": {
   "display_name": "Python 3",
   "language": "python",
   "name": "python3"
  },
  "language_info": {
   "codemirror_mode": {
    "name": "ipython",
    "version": 3
   },
   "file_extension": ".py",
   "mimetype": "text/x-python",
   "name": "python",
   "nbconvert_exporter": "python",
   "pygments_lexer": "ipython3",
   "version": "3.9.13"
  },
  "orig_nbformat": 4
 },
 "nbformat": 4,
 "nbformat_minor": 2
}
